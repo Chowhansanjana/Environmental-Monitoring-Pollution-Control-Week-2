{
 "cells": [
  {
   "cell_type": "markdown",
   "id": "dcbc471c",
   "metadata": {},
   "source": [
    "# Environmental Monitoring & Pollution Control – Week 2\n",
    "This notebook extends Week 1 by adding AQI trend analysis and pollutant correlations."
   ]
  },
  {
   "cell_type": "code",
   "execution_count": null,
   "id": "5abcb8f1",
   "metadata": {},
   "outputs": [],
   "source": [
    "\n",
    "import pandas as pd\n",
    "import matplotlib.pyplot as plt\n",
    "import seaborn as sns\n",
    "\n",
    "%matplotlib inline\n"
   ]
  },
  {
   "cell_type": "code",
   "execution_count": null,
   "id": "45d0a7d0",
   "metadata": {},
   "outputs": [],
   "source": [
    "\n",
    "# Load dataset (same as Week 1)\n",
    "df = pd.read_csv(\"sample_environment_dataset.csv\")\n",
    "df.head()\n"
   ]
  },
  {
   "cell_type": "code",
   "execution_count": null,
   "id": "eb8cb9c6",
   "metadata": {},
   "outputs": [],
   "source": [
    "\n",
    "# Cleaning\n",
    "df = df.dropna()\n",
    "df = df.drop_duplicates()\n",
    "print(\"Dataset shape after cleaning:\", df.shape)\n"
   ]
  },
  {
   "cell_type": "code",
   "execution_count": null,
   "id": "787d34b3",
   "metadata": {},
   "outputs": [],
   "source": [
    "\n",
    "# AQI trend over time by location\n",
    "plt.figure(figsize=(10,5))\n",
    "for city in df[\"Location\"].unique():\n",
    "    city_data = df[df[\"Location\"] == city].groupby(\"Date\")[\"AirQualityIndex\"].mean()\n",
    "    plt.plot(city_data.index, city_data.values, label=city)\n",
    "\n",
    "plt.title(\"AQI Trend Over Time by Location\")\n",
    "plt.xlabel(\"Date\")\n",
    "plt.ylabel(\"Average AQI\")\n",
    "plt.legend()\n",
    "plt.show()\n"
   ]
  },
  {
   "cell_type": "code",
   "execution_count": null,
   "id": "983a8165",
   "metadata": {},
   "outputs": [],
   "source": [
    "\n",
    "# Correlation heatmap of pollutants vs AQI\n",
    "plt.figure(figsize=(8,6))\n",
    "sns.heatmap(df[[\"PM2.5\",\"PM10\",\"NO2\",\"SO2\",\"CO\",\"O3\",\"AirQualityIndex\"]].corr(),\n",
    "            annot=True, cmap=\"coolwarm\", fmt=\".2f\")\n",
    "plt.title(\"Correlation between Pollutants and AQI\")\n",
    "plt.show()\n"
   ]
  }
 ],
 "metadata": {},
 "nbformat": 4,
 "nbformat_minor": 5
}
